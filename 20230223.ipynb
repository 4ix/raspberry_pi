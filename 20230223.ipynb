{
 "cells": [
  {
   "cell_type": "code",
   "execution_count": null,
   "metadata": {},
   "outputs": [],
   "source": []
  }
 ],
 "metadata": {
  "kernelspec": {
   "display_name": "cv",
   "language": "python",
   "name": "python3"
  },
  "language_info": {
   "name": "python",
   "version": "3.10.9"
  },
  "orig_nbformat": 4,
  "vscode": {
   "interpreter": {
    "hash": "9ed6a35fb45006583bff7ae94fc4830762f568b81716fd2b4441e2ef05f1ce9e"
   }
  }
 },
 "nbformat": 4,
 "nbformat_minor": 2
}
